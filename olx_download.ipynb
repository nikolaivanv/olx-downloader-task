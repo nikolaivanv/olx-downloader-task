{
 "cells": [
  {
   "cell_type": "code",
   "execution_count": 1,
   "metadata": {
    "ExecuteTime": {
     "end_time": "2023-07-08T19:46:37.062467Z",
     "start_time": "2023-07-08T19:46:36.995638Z"
    }
   },
   "outputs": [],
   "source": [
    "import logging\n",
    "import json\n",
    "from datetime import datetime, timedelta\n",
    "import pandas as pd\n",
    "#from config import configuration\n",
    "import concurrent.futures\n",
    "from olx_downloader import OlxDownloader\n",
    "import urllib3"
   ]
  },
  {
   "cell_type": "code",
   "execution_count": 41,
   "metadata": {
    "ExecuteTime": {
     "end_time": "2023-07-08T19:46:38.612084Z",
     "start_time": "2023-07-08T19:46:38.605127Z"
    }
   },
   "outputs": [],
   "source": [
    "def download_rent_listings(filters, max_pages=25):\n",
    "    base_url = 'https://www.olx.uz/api/v1/offers/'\n",
    "    limit = 50\n",
    "    offset = 0\n",
    "    url = base_url + '?offset=' + str(offset) + '&' + filters\n",
    "    count = 0\n",
    "    listings = []\n",
    "    page = 0\n",
    "    ids = set()\n",
    "    # last_refresh_time = None\n",
    "    while url:\n",
    "        #last_refresh_time = None\n",
    "        res = download_page(url)\n",
    "        url = None\n",
    "        page = page + 1\n",
    "        if 'data' in res:\n",
    "            data = res['data']\n",
    "            i = 0\n",
    "            for listing in data:\n",
    "                i = i + 1\n",
    "                if 'id' in listing:\n",
    "                    if listing['id'] not in ids:\n",
    "                        ids.add(listing['id'])\n",
    "                        listings.append(listing)\n",
    "                        #promoted_top = listing['promotion']['top_ad']\n",
    "                        # if not promoted_top:\n",
    "                        #     if (last_refresh_time is None) or (last_refresh_time > listing['last_refresh_time']):\n",
    "                        #         last_refresh_time = listing['last_refresh_time']\n",
    "            count = count + i\n",
    "        if 'links' in res:\n",
    "            if 'next' in res['links']:\n",
    "                if 'href' in res['links']['next']:\n",
    "                    url = res['links']['next']['href']\n",
    "        if (page == max_pages):\n",
    "            print(f'Max pages reached, count: {len(listings)}, filter: {filters}')\n",
    "            #url = None\n",
    "        # if (last_refresh_time < min_last_refresh_time):\n",
    "        #     print(f'Min date reached, count: {len(listings)}')\n",
    "        #     url = None\n",
    "        #print(f'page: {page}, min last_refresh_time on the page: {last_refresh_time}')\n",
    "    logging.info('Downloaded %s items', count)\n",
    "    return listings\n",
    "\n",
    "def download_page(url):\n",
    "    http = urllib3.PoolManager()\n",
    "    r = http.request('GET', url)\n",
    "    #print(r.data)\n",
    "    return json.loads(r.data.decode('utf-8'))"
   ]
  },
  {
   "cell_type": "code",
   "execution_count": 42,
   "metadata": {
    "ExecuteTime": {
     "end_time": "2023-07-08T19:46:40.800072Z",
     "start_time": "2023-07-08T19:46:40.796210Z"
    }
   },
   "outputs": [],
   "source": [
    "def build_filter_url(filter_base, room_min, room_max, floor_min, floor_max, price_min, price_max):\n",
    "    rooms_filter = f'filter_float_number_of_rooms%3Afrom={room_min}&filter_float_number_of_rooms%3Ato={room_max}'\n",
    "    floor_filter = f'filter_float_floor%3Afrom={floor_min}&filter_float_floor%3Ato={floor_max}'\n",
    "    price_filter = f'filter_float_price%3Afrom={price_min}&filter_float_price%3Ato={price_max}'\n",
    "    filter_url = f'{filter_base}&{rooms_filter}&{floor_filter}&{price_filter}'\n",
    "    return filter_url"
   ]
  },
  {
   "cell_type": "code",
   "execution_count": 43,
   "metadata": {
    "ExecuteTime": {
     "end_time": "2023-07-08T19:54:27.682115Z",
     "start_time": "2023-07-08T19:54:27.674931Z"
    }
   },
   "outputs": [],
   "source": [
    "room_filters = [\n",
    "    (1,1),\n",
    "    (2,2),\n",
    "    (3,3),\n",
    "    (4,4),\n",
    "    (5,5),\n",
    "    (6,100)\n",
    "]\n",
    "\n",
    "floor_filters = [\n",
    "    (1,1),\n",
    "    (2,2),\n",
    "    (3,3),\n",
    "    (4,4),\n",
    "    (5,5),\n",
    "    (6,6),\n",
    "    (7,7),\n",
    "    (8,8),\n",
    "    (9,9),\n",
    "    (10,10),\n",
    "    (11,11),\n",
    "    (12,12),\n",
    "    (13,13),\n",
    "    (14,14),\n",
    "    (15,20),\n",
    "    (20,100)\n",
    "]\n",
    "\n",
    "price_filters = [\n",
    "    (200,300),\n",
    "    (300.01,400),\n",
    "    (400.01,500),\n",
    "    (500.01,600),\n",
    "    (600.01,700),\n",
    "    (700.01,800),\n",
    "    (800.01,900),\n",
    "    (900.01,1000),\n",
    "    (1000.01,1100),\n",
    "    (1100.01,1200),\n",
    "    (1200.01,1300),\n",
    "    (1300.01,1400),\n",
    "    (1400.01,100000)\n",
    "]"
   ]
  },
  {
   "cell_type": "code",
   "execution_count": 44,
   "metadata": {
    "ExecuteTime": {
     "end_time": "2023-07-08T19:46:53.543938Z",
     "start_time": "2023-07-08T19:46:53.540081Z"
    }
   },
   "outputs": [],
   "source": [
    "# price_filters = []\n",
    "# price_min = 300\n",
    "# price_max = 2000\n",
    "# #price_inf = 100000\n",
    "# price_step = 25\n",
    "# price_eps = 1\n",
    "# for p in range(price_min,price_max,price_step):\n",
    "#     price_filters.append((p, p + price_step - price_eps))\n",
    "# #price_filters.append((price_max, price_inf))"
   ]
  },
  {
   "cell_type": "code",
   "execution_count": 45,
   "metadata": {
    "ExecuteTime": {
     "end_time": "2023-07-08T19:54:29.254609Z",
     "start_time": "2023-07-08T19:54:29.249479Z"
    }
   },
   "outputs": [],
   "source": [
    "filter_base = 'category_id=1147&region_id=5&city_id=4&currency=USD&filter_refiners=&sl=184915fd305x3316b009'\n",
    "filters_list = []\n",
    "for (rooms_min, rooms_max) in room_filters:\n",
    "    for floor_min, floor_max in floor_filters:\n",
    "        for price_min, price_max in price_filters:\n",
    "            filter_url = build_filter_url(filter_base, rooms_min, rooms_max, floor_min, floor_max, price_min, price_max)\n",
    "            filters_list.append(filter_url)"
   ]
  },
  {
   "cell_type": "code",
   "execution_count": 46,
   "metadata": {},
   "outputs": [
    {
     "data": {
      "text/plain": [
       "1248"
      ]
     },
     "execution_count": 46,
     "metadata": {},
     "output_type": "execute_result"
    }
   ],
   "source": [
    "len(filters_list)"
   ]
  },
  {
   "cell_type": "code",
   "execution_count": 47,
   "metadata": {},
   "outputs": [],
   "source": [
    "# downloaded_listings = []\n",
    "# with concurrent.futures.ThreadPoolExecutor(max_workers=5) as executor:\n",
    "#     future_to_filter = {executor.submit(download_rent_listings, filters, 120): filters for filters in filters_list}\n",
    "#     for future in concurrent.futures.as_completed(future_to_filter):\n",
    "#         filter = future_to_filter[future]\n",
    "#         try:\n",
    "#             downloaded_listings = downloaded_listings + future.result()\n",
    "#         except Exception as exc:\n",
    "#             print('%r generated an exception: %s' % (filter, exc))\n",
    "    #futures = [\n",
    "    #    executor.submit(download_rent_listings, filters)\n",
    "    #    for filters in filters_list]\n",
    "    #for future in futures:\n",
    "    #    if len(future.result()) > 0:\n",
    "    #        #print('result: ' + str(future.result()[0]))\n",
    "    #        try:\n",
    "    #            downloaded_listings = downloaded_listings + future.result()\n",
    "    #        except Exception as exc:\n",
    "    #            print(exc)\n",
    "#with concurrent.futures.ProcessPoolExecutor(max_workers=2) as executor:\n",
    "#        for listings_chunk in executor.map(download_rent_listings, filters_list):\n",
    "#            print(listings_chunk)"
   ]
  },
  {
   "cell_type": "code",
   "execution_count": null,
   "metadata": {},
   "outputs": [],
   "source": [
    "#f = 'category_id=1147&region_id=5&city_id=4&currency=USD&filter_refiners=&sl=184915fd305x3316b009&filter_float_number_of_rooms%3Afrom=5&filter_float_number_of_rooms%3Ato=5&filter_float_floor%3Afrom=4&filter_float_floor%3Ato=4&filter_float_price%3Afrom=700.01&filter_float_price%3Ato=800'\n",
    "#download_rent_listings(f)"
   ]
  },
  {
   "cell_type": "code",
   "execution_count": 48,
   "metadata": {
    "ExecuteTime": {
     "end_time": "2023-07-08T19:23:49.579672Z",
     "start_time": "2023-07-08T16:38:33.624508Z"
    }
   },
   "outputs": [
    {
     "name": "stdout",
     "output_type": "stream",
     "text": [
      "Downloading batch 10 of 1248\n",
      "Downloading batch 20 of 1248\n",
      "Downloading batch 30 of 1248\n",
      "Downloading batch 40 of 1248\n",
      "Downloading batch 50 of 1248\n",
      "Downloading batch 60 of 1248\n",
      "Downloading batch 70 of 1248\n",
      "Downloading batch 80 of 1248\n",
      "Downloading batch 90 of 1248\n",
      "Downloading batch 100 of 1248\n",
      "Downloading batch 110 of 1248\n",
      "Downloading batch 120 of 1248\n",
      "Downloading batch 130 of 1248\n",
      "Downloading batch 140 of 1248\n",
      "Downloading batch 150 of 1248\n",
      "Downloading batch 160 of 1248\n",
      "Downloading batch 170 of 1248\n",
      "Downloading batch 180 of 1248\n",
      "Downloading batch 190 of 1248\n",
      "Downloading batch 200 of 1248\n",
      "Downloading batch 210 of 1248\n",
      "Downloading batch 220 of 1248\n",
      "Downloading batch 230 of 1248\n",
      "Downloading batch 240 of 1248\n",
      "Downloading batch 250 of 1248\n",
      "Downloading batch 260 of 1248\n",
      "Downloading batch 270 of 1248\n",
      "Downloading batch 280 of 1248\n",
      "Downloading batch 290 of 1248\n",
      "Downloading batch 300 of 1248\n",
      "Downloading batch 310 of 1248\n",
      "Downloading batch 320 of 1248\n",
      "Downloading batch 330 of 1248\n",
      "Downloading batch 340 of 1248\n",
      "Downloading batch 350 of 1248\n",
      "Downloading batch 360 of 1248\n",
      "Downloading batch 370 of 1248\n",
      "Downloading batch 380 of 1248\n",
      "Downloading batch 390 of 1248\n",
      "Downloading batch 400 of 1248\n",
      "Downloading batch 410 of 1248\n",
      "Downloading batch 420 of 1248\n",
      "Downloading batch 430 of 1248\n",
      "Downloading batch 440 of 1248\n",
      "Downloading batch 450 of 1248\n",
      "Downloading batch 460 of 1248\n",
      "Downloading batch 470 of 1248\n",
      "Downloading batch 480 of 1248\n",
      "Downloading batch 490 of 1248\n",
      "Downloading batch 500 of 1248\n",
      "Downloading batch 510 of 1248\n",
      "Downloading batch 520 of 1248\n",
      "Downloading batch 530 of 1248\n",
      "Downloading batch 540 of 1248\n",
      "Downloading batch 550 of 1248\n",
      "Downloading batch 560 of 1248\n",
      "Downloading batch 570 of 1248\n",
      "Downloading batch 580 of 1248\n",
      "Downloading batch 590 of 1248\n",
      "Downloading batch 600 of 1248\n",
      "Downloading batch 610 of 1248\n",
      "Downloading batch 620 of 1248\n",
      "Downloading batch 630 of 1248\n",
      "Downloading batch 640 of 1248\n",
      "Downloading batch 650 of 1248\n",
      "Downloading batch 660 of 1248\n",
      "Downloading batch 670 of 1248\n",
      "Downloading batch 680 of 1248\n",
      "Downloading batch 690 of 1248\n",
      "Downloading batch 700 of 1248\n",
      "Downloading batch 710 of 1248\n",
      "Downloading batch 720 of 1248\n",
      "Downloading batch 730 of 1248\n",
      "Downloading batch 740 of 1248\n",
      "Downloading batch 750 of 1248\n",
      "Downloading batch 760 of 1248\n",
      "Downloading batch 770 of 1248\n",
      "Downloading batch 780 of 1248\n",
      "Downloading batch 790 of 1248\n",
      "Downloading batch 800 of 1248\n",
      "Downloading batch 810 of 1248\n",
      "Downloading batch 820 of 1248\n",
      "Downloading batch 830 of 1248\n",
      "Downloading batch 840 of 1248\n",
      "Downloading batch 850 of 1248\n",
      "Downloading batch 860 of 1248\n",
      "Downloading batch 870 of 1248\n",
      "Downloading batch 880 of 1248\n",
      "Downloading batch 890 of 1248\n",
      "Downloading batch 900 of 1248\n",
      "Downloading batch 910 of 1248\n",
      "Downloading batch 920 of 1248\n",
      "Downloading batch 930 of 1248\n",
      "Downloading batch 940 of 1248\n",
      "Downloading batch 950 of 1248\n",
      "Downloading batch 960 of 1248\n",
      "Downloading batch 970 of 1248\n",
      "Downloading batch 980 of 1248\n",
      "Downloading batch 990 of 1248\n",
      "Downloading batch 1000 of 1248\n",
      "Downloading batch 1010 of 1248\n",
      "Downloading batch 1020 of 1248\n",
      "Downloading batch 1030 of 1248\n",
      "Downloading batch 1040 of 1248\n",
      "Downloading batch 1050 of 1248\n",
      "Downloading batch 1060 of 1248\n",
      "Downloading batch 1070 of 1248\n",
      "Downloading batch 1080 of 1248\n",
      "Downloading batch 1090 of 1248\n",
      "Downloading batch 1100 of 1248\n",
      "Downloading batch 1110 of 1248\n",
      "Downloading batch 1120 of 1248\n",
      "Downloading batch 1130 of 1248\n",
      "Downloading batch 1140 of 1248\n",
      "Downloading batch 1150 of 1248\n",
      "Downloading batch 1160 of 1248\n",
      "Downloading batch 1170 of 1248\n",
      "Downloading batch 1180 of 1248\n",
      "Downloading batch 1190 of 1248\n",
      "Downloading batch 1200 of 1248\n",
      "Downloading batch 1210 of 1248\n",
      "Downloading batch 1220 of 1248\n",
      "Downloading batch 1230 of 1248\n",
      "Downloading batch 1240 of 1248\n"
     ]
    }
   ],
   "source": [
    "len_filters = len(filters_list)\n",
    "downloaded_listings = []\n",
    "for i, filters in enumerate(filters_list):\n",
    "    if (i+1) % 10 == 0:    \n",
    "        print(f'Downloading batch {i+1} of {len_filters}')\n",
    "    listings = download_rent_listings(filters)\n",
    "    downloaded_listings = downloaded_listings + listings"
   ]
  },
  {
   "cell_type": "code",
   "execution_count": 49,
   "metadata": {
    "ExecuteTime": {
     "end_time": "2023-07-08T20:02:21.549313Z",
     "start_time": "2023-07-08T20:02:21.544884Z"
    }
   },
   "outputs": [
    {
     "data": {
      "text/plain": [
       "35967"
      ]
     },
     "execution_count": 49,
     "metadata": {},
     "output_type": "execute_result"
    }
   ],
   "source": [
    "len(downloaded_listings)"
   ]
  },
  {
   "cell_type": "code",
   "execution_count": 50,
   "metadata": {
    "ExecuteTime": {
     "end_time": "2023-07-08T20:12:07.106268Z",
     "start_time": "2023-07-08T20:11:52.074861Z"
    }
   },
   "outputs": [],
   "source": [
    "data = json.dumps(downloaded_listings).encode('UTF-8')\n",
    "filename = f'oxl_download_rent.json'\n",
    "with open(filename,'w') as fp:\n",
    "   json.dump(downloaded_listings, fp)"
   ]
  },
  {
   "cell_type": "code",
   "execution_count": null,
   "metadata": {},
   "outputs": [
    {
     "data": {
      "text/plain": [
       "'category_id=1147&region_id=5&city_id=4&currency=USD&filter_refiners=&sl=184915fd305x3316b009&sort_by=created_at%3Adesc&filter_float_number_of_rooms%3Afrom=1&filter_float_number_of_rooms%3Ato=2&filter_float_floor%3Afrom=1&filter_float_floor%3Ato=100&filter_float_price%3Afrom=200&filter_float_price%3Ato=500'"
      ]
     },
     "execution_count": 11,
     "metadata": {},
     "output_type": "execute_result"
    }
   ],
   "source": []
  },
  {
   "cell_type": "code",
   "execution_count": null,
   "metadata": {},
   "outputs": [],
   "source": []
  }
 ],
 "metadata": {
  "hide_input": false,
  "kernelspec": {
   "display_name": "Python 3",
   "language": "python",
   "name": "python3"
  },
  "language_info": {
   "codemirror_mode": {
    "name": "ipython",
    "version": 3
   },
   "file_extension": ".py",
   "mimetype": "text/x-python",
   "name": "python",
   "nbconvert_exporter": "python",
   "pygments_lexer": "ipython3",
   "version": "3.8.5"
  },
  "toc": {
   "base_numbering": 1,
   "nav_menu": {},
   "number_sections": true,
   "sideBar": true,
   "skip_h1_title": false,
   "title_cell": "Table of Contents",
   "title_sidebar": "Contents",
   "toc_cell": false,
   "toc_position": {},
   "toc_section_display": true,
   "toc_window_display": false
  },
  "varInspector": {
   "cols": {
    "lenName": 16,
    "lenType": 16,
    "lenVar": 40
   },
   "kernels_config": {
    "python": {
     "delete_cmd_postfix": "",
     "delete_cmd_prefix": "del ",
     "library": "var_list.py",
     "varRefreshCmd": "print(var_dic_list())"
    },
    "r": {
     "delete_cmd_postfix": ") ",
     "delete_cmd_prefix": "rm(",
     "library": "var_list.r",
     "varRefreshCmd": "cat(var_dic_list()) "
    }
   },
   "types_to_exclude": [
    "module",
    "function",
    "builtin_function_or_method",
    "instance",
    "_Feature"
   ],
   "window_display": false
  }
 },
 "nbformat": 4,
 "nbformat_minor": 4
}
